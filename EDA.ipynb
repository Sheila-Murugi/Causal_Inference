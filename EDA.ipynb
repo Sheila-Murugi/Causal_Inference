{
  "nbformat": 4,
  "nbformat_minor": 0,
  "metadata": {
    "colab": {
      "provenance": []
    },
    "kernelspec": {
      "name": "python3",
      "display_name": "Python 3"
    },
    "language_info": {
      "name": "python"
    }
  },
  "cells": [
    {
      "cell_type": "code",
      "execution_count": null,
      "metadata": {
        "colab": {
          "base_uri": "https://localhost:8080/"
        },
        "id": "bk_1_xIdsXvD",
        "outputId": "e360982b-2d5b-4e26-ab28-ba70b06ba235"
      },
      "outputs": [
        {
          "output_type": "stream",
          "name": "stdout",
          "text": [
            "<class 'pandas.core.frame.DataFrame'>\n",
            "RangeIndex: 521891 entries, 0 to 521890\n",
            "Data columns (total 8 columns):\n",
            " #   Column         Non-Null Count   Dtype  \n",
            "---  ------         --------------   -----  \n",
            " 0   id             521891 non-null  int64  \n",
            " 1   order_id       521891 non-null  int64  \n",
            " 2   driver_id      521891 non-null  int64  \n",
            " 3   driver_action  521891 non-null  object \n",
            " 4   lat            521891 non-null  float64\n",
            " 5   lng            521891 non-null  float64\n",
            " 6   created_at     0 non-null       float64\n",
            " 7   updated_at     1 non-null       object \n",
            "dtypes: float64(3), int64(3), object(2)\n",
            "memory usage: 31.9+ MB\n",
            "None\n",
            "<class 'pandas.core.frame.DataFrame'>\n",
            "RangeIndex: 339964 entries, 0 to 339963\n",
            "Data columns (total 5 columns):\n",
            " #   Column            Non-Null Count   Dtype \n",
            "---  ------            --------------   ----- \n",
            " 0   Trip ID           339964 non-null  int64 \n",
            " 1   Trip Origin       339964 non-null  object\n",
            " 2   Trip Destination  339964 non-null  object\n",
            " 3   Trip Start Time   339675 non-null  object\n",
            " 4   Trip End Time     339963 non-null  object\n",
            "dtypes: int64(1), object(4)\n",
            "memory usage: 13.0+ MB\n",
            "None\n",
            "                  id       order_id      driver_id            lat  \\\n",
            "count  521891.000000  521891.000000  521891.000000  521891.000000   \n",
            "mean   260946.000000  402166.888645  233926.170103       6.535790   \n",
            "std    150657.099006    5639.796077   22724.331959       0.058498   \n",
            "min         1.000000  392001.000000  121981.000000       6.415885   \n",
            "25%    130473.500000  397301.000000  242994.000000       6.501340   \n",
            "50%    260946.000000  402030.000000  243598.000000       6.544278   \n",
            "75%    391418.500000  406829.000000  244044.000000       6.590464   \n",
            "max    521891.000000  412154.000000  245686.000000       7.702536   \n",
            "\n",
            "                 lng  created_at  \n",
            "count  521891.000000         0.0  \n",
            "mean        3.378408         NaN  \n",
            "std         0.052086         NaN  \n",
            "min         3.085036         NaN  \n",
            "25%         3.349176         NaN  \n",
            "50%         3.363508         NaN  \n",
            "75%         3.384401         NaN  \n",
            "max         8.515414         NaN  \n",
            "            Trip ID\n",
            "count  3.399640e+05\n",
            "mean   7.729981e+05\n",
            "std    2.176922e+05\n",
            "min    3.919960e+05\n",
            "25%    5.899445e+05\n",
            "50%    7.691525e+05\n",
            "75%    9.614955e+05\n",
            "max    1.139018e+06\n"
          ]
        }
      ],
      "source": [
        "import pandas as pd\n",
        "import matplotlib.pyplot as plt\n",
        "import seaborn as sns\n",
        "\n",
        "# Load datasets\n",
        "completed_orders = pd.read_csv('/content/driver_locations_during_request.csv', engine='python')\n",
        "delivery_requests = pd.read_csv('/content/nb.csv')\n",
        "\n",
        "# Inspect datasets\n",
        "print(completed_orders.info())\n",
        "print(delivery_requests.info())\n",
        "\n",
        "# Summary statistics\n",
        "print(completed_orders.describe())\n",
        "print(delivery_requests.describe())\n"
      ]
    },
    {
      "cell_type": "code",
      "source": [
        "\n",
        "\n",
        "# Verify there are no missing values\n",
        "print(completed_orders.isnull().sum())\n",
        "print(delivery_requests.isnull().sum())"
      ],
      "metadata": {
        "colab": {
          "base_uri": "https://localhost:8080/"
        },
        "id": "jNOXl9rvv4cZ",
        "outputId": "fca2646c-c600-439d-f570-3f263c4a6ed9"
      },
      "execution_count": null,
      "outputs": [
        {
          "output_type": "stream",
          "name": "stdout",
          "text": [
            "id                    0\n",
            "order_id              0\n",
            "driver_id             0\n",
            "driver_action         0\n",
            "lat                   0\n",
            "lng                   0\n",
            "created_at       521891\n",
            "updated_at       521890\n",
            "dtype: int64\n",
            "Trip ID               0\n",
            "Trip Origin           0\n",
            "Trip Destination      0\n",
            "Trip Start Time     289\n",
            "Trip End Time         1\n",
            "dtype: int64\n"
          ]
        }
      ]
    },
    {
      "cell_type": "code",
      "source": [
        "completed_orders.dtypes"
      ],
      "metadata": {
        "colab": {
          "base_uri": "https://localhost:8080/"
        },
        "id": "jmp8bzf6xwyd",
        "outputId": "a2cbfd07-5006-4e1f-9d64-9b08a96e4feb"
      },
      "execution_count": null,
      "outputs": [
        {
          "output_type": "execute_result",
          "data": {
            "text/plain": [
              "id                 int64\n",
              "order_id           int64\n",
              "driver_id          int64\n",
              "driver_action     object\n",
              "lat              float64\n",
              "lng              float64\n",
              "created_at       float64\n",
              "updated_at        object\n",
              "dtype: object"
            ]
          },
          "metadata": {},
          "execution_count": 7
        }
      ]
    },
    {
      "cell_type": "code",
      "source": [
        "# Check for missing values\n",
        "print(completed_orders.isnull().sum())\n",
        "print(delivery_requests.isnull().sum())\n",
        "\n",
        "# Fill or drop missing values\n",
        "completed_orders = completed_orders.dropna()\n",
        "delivery_requests = delivery_requests.dropna()\n"
      ],
      "metadata": {
        "colab": {
          "base_uri": "https://localhost:8080/"
        },
        "id": "_mMfjFT20M7N",
        "outputId": "9f8968b6-a3e6-4744-8124-1214468cb34f"
      },
      "execution_count": null,
      "outputs": [
        {
          "output_type": "stream",
          "name": "stdout",
          "text": [
            "id                    0\n",
            "order_id              0\n",
            "driver_id             0\n",
            "driver_action         0\n",
            "lat                   0\n",
            "lng                   0\n",
            "created_at       521891\n",
            "updated_at       521890\n",
            "dtype: int64\n",
            "Trip ID               0\n",
            "Trip Origin           0\n",
            "Trip Destination      0\n",
            "Trip Start Time     289\n",
            "Trip End Time         1\n",
            "dtype: int64\n"
          ]
        }
      ]
    },
    {
      "cell_type": "code",
      "source": [
        "# Check for missing values\n",
        "print(completed_orders.isnull().sum())\n",
        "print(delivery_requests.isnull().sum())"
      ],
      "metadata": {
        "colab": {
          "base_uri": "https://localhost:8080/"
        },
        "id": "xUwtbG2t0WHp",
        "outputId": "6839b774-5a59-433c-85f9-d76f6f41affa"
      },
      "execution_count": null,
      "outputs": [
        {
          "output_type": "stream",
          "name": "stdout",
          "text": [
            "id               0.0\n",
            "order_id         0.0\n",
            "driver_id        0.0\n",
            "driver_action    0.0\n",
            "lat              0.0\n",
            "lng              0.0\n",
            "created_at       0.0\n",
            "updated_at       0.0\n",
            "dtype: float64\n",
            "Trip ID             0\n",
            "Trip Origin         0\n",
            "Trip Destination    0\n",
            "Trip Start Time     0\n",
            "Trip End Time       0\n",
            "dtype: int64\n"
          ]
        }
      ]
    },
    {
      "cell_type": "code",
      "source": [
        "# Visualize outliers using boxplots\n",
        "plt.figure(figsize=(10, 6))\n",
        "sns.boxplot(x=completed_orders['lat'])\n",
        "plt.title('Boxplot of Trip Duration')\n",
        "plt.show()\n"
      ],
      "metadata": {
        "colab": {
          "base_uri": "https://localhost:8080/",
          "height": 545
        },
        "id": "qxkiQYsv0yeH",
        "outputId": "4e27acbd-15b4-46e3-80d5-7851b6d2bf76"
      },
      "execution_count": null,
      "outputs": [
        {
          "output_type": "display_data",
          "data": {
            "text/plain": [
              "<Figure size 1000x600 with 1 Axes>"
            ],
            "image/png": "[encoded data removed]"
          },
          "metadata": {}
        }
      ]
    },
    {
      "cell_type": "code",
      "source": [
        "# Visualize distributions of numerical features\n",
        "plt.figure(figsize=(10, 6))\n",
        "sns.histplot(completed_orders['lat'], kde=True)\n",
        "plt.title('Distribution of Trip Duration')\n",
        "plt.show()\n"
      ],
      "metadata": {
        "colab": {
          "base_uri": "https://localhost:8080/",
          "height": 545
        },
        "id": "VJUtVMAj1Seg",
        "outputId": "59c7fb1b-0df7-49ce-b0b9-ccc07c1e2c96"
      },
      "execution_count": null,
      "outputs": [
        {
          "output_type": "display_data",
          "data": {
            "text/plain": [
              "<Figure size 1000x600 with 1 Axes>"
            ],
            "image/png": "[encoded data removed]"
          },
          "metadata": {}
        }
      ]
    }
  ]
}